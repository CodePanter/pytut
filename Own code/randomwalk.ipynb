{
 "cells": [
  {
   "cell_type": "code",
   "execution_count": 3,
   "metadata": {},
   "outputs": [],
   "source": [
    "import random"
   ]
  },
  {
   "cell_type": "code",
   "execution_count": 6,
   "metadata": {},
   "outputs": [],
   "source": [
    "def random_walk(n):\n",
    "    x=0\n",
    "    y=0"
   ]
  },
  {
   "cell_type": "code",
   "execution_count": 14,
   "metadata": {},
   "outputs": [
    {
     "ename": "SyntaxError",
     "evalue": "'return' outside function (<ipython-input-14-6084bd020fc9>, line 11)",
     "output_type": "error",
     "traceback": [
      "\u001b[0;36m  File \u001b[0;32m\"<ipython-input-14-6084bd020fc9>\"\u001b[0;36m, line \u001b[0;32m11\u001b[0m\n\u001b[0;31m    return (x,y)\u001b[0m\n\u001b[0m    ^\u001b[0m\n\u001b[0;31mSyntaxError\u001b[0m\u001b[0;31m:\u001b[0m 'return' outside function\n"
     ]
    }
   ],
   "source": [
    "for i in range (n):\n",
    "    step = random.choice(['N','S','E','W'])\n",
    "    if step == 'N':\n",
    "        y=y+1\n",
    "    elif step == 'S':\n",
    "        y = y + 1\n",
    "    elif step == 'E':\n",
    "        x=x+1\n",
    "    else:\n",
    "        x = x -1\n",
    "    return (x,y)\n",
    "\n",
    "\n",
    "\n",
    "for i in range(25):\n",
    "    walk = random_walk(10)\n",
    "    print (walk , \"Distance from home = \", \n",
    "           abs(walk[0]) + abs(walk[1]))"
   ]
  },
  {
   "cell_type": "code",
   "execution_count": null,
   "metadata": {},
   "outputs": [],
   "source": []
  }
 ],
 "metadata": {
  "kernelspec": {
   "display_name": "Python 3",
   "language": "python",
   "name": "python3"
  },
  "language_info": {
   "codemirror_mode": {
    "name": "ipython",
    "version": 3
   },
   "file_extension": ".py",
   "mimetype": "text/x-python",
   "name": "python",
   "nbconvert_exporter": "python",
   "pygments_lexer": "ipython3",
   "version": "3.7.6"
  }
 },
 "nbformat": 4,
 "nbformat_minor": 4
}
